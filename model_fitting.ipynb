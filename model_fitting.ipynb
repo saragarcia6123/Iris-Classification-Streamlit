{
 "cells": [
  {
   "cell_type": "code",
   "execution_count": 10,
   "id": "4764f75b-b975-4a3b-bf01-65725824b53e",
   "metadata": {},
   "outputs": [],
   "source": [
    "import os\n",
    "import pickle\n",
    "import pandas as pd\n",
    "from sklearn.datasets import load_iris\n",
    "from sklearn.neighbors import KNeighborsClassifier\n",
    "from sklearn.ensemble import RandomForestClassifier, AdaBoostClassifier"
   ]
  },
  {
   "cell_type": "code",
   "execution_count": 12,
   "id": "30220f45-f438-46fd-bddc-9c4b6c76a021",
   "metadata": {},
   "outputs": [],
   "source": [
    "if not os.path.isdir('models'):\n",
    "    os.mkdir('models')\n",
    "\n",
    "if not os.path.isdir('datasets'):\n",
    "    os.mkdir('datasets')"
   ]
  },
  {
   "cell_type": "code",
   "execution_count": 4,
   "id": "aed963d1-33d4-414c-b60e-3568cc098f74",
   "metadata": {},
   "outputs": [],
   "source": [
    "target = 'target'\n",
    "seed = 42"
   ]
  },
  {
   "cell_type": "code",
   "execution_count": 11,
   "id": "6dffb093-e928-4d35-885b-c043f90becde",
   "metadata": {},
   "outputs": [],
   "source": [
    "iris = load_iris()\n",
    "df = pd.DataFrame(data=iris.data, columns=iris.feature_names)\n",
    "df[target] = iris.target\n",
    "df[target] = df[target].map({0: 'setosa', 1: 'versicolor', 2: 'virginica'})"
   ]
  },
  {
   "cell_type": "code",
   "execution_count": 6,
   "id": "71c876ba-c561-4dde-acc8-be299a7f3a23",
   "metadata": {},
   "outputs": [],
   "source": [
    "X = df.drop(target, axis=1)\n",
    "y = df[target]"
   ]
  },
  {
   "cell_type": "code",
   "execution_count": 7,
   "id": "d89272ad-1253-4d5a-9d28-b7329c7af6b2",
   "metadata": {},
   "outputs": [],
   "source": [
    "knn = KNeighborsClassifier(n_neighbors=5)\n",
    "rf = RandomForestClassifier(random_state=seed)\n",
    "ada = AdaBoostClassifier(random_state=seed)"
   ]
  },
  {
   "cell_type": "code",
   "execution_count": null,
   "id": "56e58280-368f-4751-bd43-72731ba94890",
   "metadata": {},
   "outputs": [],
   "source": [
    "knn.fit(X, y)\n",
    "rf.fit(X, y)\n",
    "ada.fit(X, y)"
   ]
  },
  {
   "cell_type": "code",
   "execution_count": 9,
   "id": "e92407db-3e0d-4e7c-b9db-849cf522f138",
   "metadata": {},
   "outputs": [],
   "source": [
    "with open(\"models/knn.pkl\", \"wb\") as f:\n",
    "    pickle.dump(knn, f)\n",
    "\n",
    "with open(\"models/random_forest.pkl\", \"wb\") as f:\n",
    "    pickle.dump(rf, f)\n",
    "\n",
    "with open(\"models/ada_boost.pkl\", \"wb\") as f:\n",
    "    pickle.dump(ada, f)"
   ]
  },
  {
   "cell_type": "code",
   "execution_count": 13,
   "id": "34e5766c-6acd-40ea-b401-a16e6b69c6b3",
   "metadata": {},
   "outputs": [],
   "source": [
    "df.to_csv(\"datasets/iris.csv\", index=False)"
   ]
  },
  {
   "cell_type": "code",
   "execution_count": null,
   "id": "62252455-46e7-4fd7-bb8b-952532ada680",
   "metadata": {},
   "outputs": [],
   "source": []
  }
 ],
 "metadata": {
  "kernelspec": {
   "display_name": "311",
   "language": "python",
   "name": "311"
  },
  "language_info": {
   "codemirror_mode": {
    "name": "ipython",
    "version": 3
   },
   "file_extension": ".py",
   "mimetype": "text/x-python",
   "name": "python",
   "nbconvert_exporter": "python",
   "pygments_lexer": "ipython3",
   "version": "3.11.11"
  }
 },
 "nbformat": 4,
 "nbformat_minor": 5
}
